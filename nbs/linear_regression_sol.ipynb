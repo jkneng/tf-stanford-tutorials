{
 "cells": [
  {
   "cell_type": "code",
   "execution_count": 1,
   "metadata": {
    "collapsed": true
   },
   "outputs": [],
   "source": [
    "%matplotlib inline"
   ]
  },
  {
   "cell_type": "markdown",
   "metadata": {},
   "source": [
    "# Linear regression\n",
    "## Simple linear regression example in TensorFlow\n",
    "This program tries to predict the number of thefts from the number of fire in the city of Chicago"
   ]
  },
  {
   "cell_type": "code",
   "execution_count": 5,
   "metadata": {
    "collapsed": true
   },
   "outputs": [],
   "source": [
    "import numpy as np\n",
    "import matplotlib.pyplot as plt\n",
    "import tensorflow as tf\n",
    "import xlrd\n",
    "\n",
    "DATA_FILE = '../data/fire_theft.xls'"
   ]
  },
  {
   "cell_type": "markdown",
   "metadata": {},
   "source": [
    "# Phase 1: Assemble the graph"
   ]
  },
  {
   "cell_type": "code",
   "execution_count": 6,
   "metadata": {
    "collapsed": true
   },
   "outputs": [],
   "source": [
    "# Step 1: read in data from the .xls file\n",
    "book = xlrd.open_workbook(DATA_FILE, encoding_override='utf-8')\n",
    "sheet = book.sheet_by_index(0)\n",
    "data = np.asarray([sheet.row_values(i) for i in range(1, sheet.nrows)])\n",
    "n_samples = sheet.nrows - 1"
   ]
  },
  {
   "cell_type": "code",
   "execution_count": 7,
   "metadata": {
    "collapsed": true
   },
   "outputs": [
    {
     "data": {
      "text/plain": [
       "array([[   6.2,   29. ],\n",
       "       [   9.5,   44. ],\n",
       "       [  10.5,   36. ],\n",
       "       [   7.7,   37. ],\n",
       "       [   8.6,   53. ],\n",
       "       [  34.1,   68. ],\n",
       "       [  11. ,   75. ],\n",
       "       [   6.9,   18. ],\n",
       "       [   7.3,   31. ],\n",
       "       [  15.1,   25. ],\n",
       "       [  29.1,   34. ],\n",
       "       [   2.2,   14. ],\n",
       "       [   5.7,   11. ],\n",
       "       [   2. ,   11. ],\n",
       "       [   2.5,   22. ],\n",
       "       [   4. ,   16. ],\n",
       "       [   5.4,   27. ],\n",
       "       [   2.2,    9. ],\n",
       "       [   7.2,   29. ],\n",
       "       [  15.1,   30. ],\n",
       "       [  16.5,   40. ],\n",
       "       [  18.4,   32. ],\n",
       "       [  36.2,   41. ],\n",
       "       [  39.7,  147. ],\n",
       "       [  18.5,   22. ],\n",
       "       [  23.3,   29. ],\n",
       "       [  12.2,   46. ],\n",
       "       [   5.6,   23. ],\n",
       "       [  21.8,    4. ],\n",
       "       [  21.6,   31. ],\n",
       "       [   9. ,   39. ],\n",
       "       [   3.6,   15. ],\n",
       "       [   5. ,   32. ],\n",
       "       [  28.6,   27. ],\n",
       "       [  17.4,   32. ],\n",
       "       [  11.3,   34. ],\n",
       "       [   3.4,   17. ],\n",
       "       [  11.9,   46. ],\n",
       "       [  10.5,   42. ],\n",
       "       [  10.7,   43. ],\n",
       "       [  10.8,   34. ],\n",
       "       [   4.8,   19. ]])"
      ]
     },
     "execution_count": 7,
     "metadata": {},
     "output_type": "execute_result"
    }
   ],
   "source": [
    "data"
   ]
  },
  {
   "cell_type": "code",
   "execution_count": 23,
   "metadata": {
    "collapsed": true
   },
   "outputs": [],
   "source": [
    "# Step 2: create placeholders for input X (number of fire) and label Y (number of theft)\n",
    "X = tf.placeholder(dtype=tf.float16, shape=[], name='X')\n",
    "Y = tf.placeholder(dtype=tf.float16, shape=[], name='Y')\n",
    "\n",
    "# Step 3: create weight and bias, initialized to 0\n",
    "# name your variables w and b\n",
    "w = tf.Variable(dtype=tf.float16, initial_value=0, trainable=True, name='w')\n",
    "b = tf.Variable(dtype=tf.float16, initial_value=0, trainable=True, name='b')\n",
    "\n",
    "# Step 4: predict Y (number of theft) from the number of fire\n",
    "# name your variable Y_predicted\n",
    "Y_predicted = tf.multiply(w, X) + b\n",
    "\n",
    "# Step 5: use the square error as the loss function\n",
    "# name your variable loss\n",
    "loss = tf.square(Y - Y_predicted)\n",
    "\n",
    "# Step 6: using gradient descent with learning rate of 0.01 to minimize loss\n",
    "optimizer = tf.train.GradientDescentOptimizer(learning_rate=0.001).minimize(loss)"
   ]
  },
  {
   "cell_type": "markdown",
   "metadata": {},
   "source": [
    "# Phase 2: Train our model"
   ]
  },
  {
   "cell_type": "code",
   "execution_count": 24,
   "metadata": {},
   "outputs": [
    {
     "name": "stdout",
     "output_type": "stream",
     "text": [
      "Epoch 0: 2068.94331287\n",
      "Epoch 1: 2113.23138137\n",
      "Epoch 2: 2089.64858282\n",
      "Epoch 3: 2064.87567429\n",
      "Epoch 4: 2044.27546038\n",
      "Epoch 5: 2021.38562593\n",
      "Epoch 6: 2000.74951172\n",
      "Epoch 7: 1977.95324126\n",
      "Epoch 8: 1962.24669829\n",
      "Epoch 9: 1941.50095331\n",
      "Epoch 10: 1923.03078497\n",
      "Epoch 11: 1905.58386812\n",
      "Epoch 12: 1887.49353609\n",
      "Epoch 13: 1872.72056362\n",
      "Epoch 14: 1854.37079148\n",
      "Epoch 15: 1840.28410993\n",
      "Epoch 16: 1822.76095726\n",
      "Epoch 17: 1809.50824411\n",
      "Epoch 18: 1796.49065871\n",
      "Epoch 19: 1783.74301293\n",
      "Epoch 20: 1771.08236258\n",
      "Epoch 21: 1757.91493588\n",
      "Epoch 22: 1745.20817057\n",
      "Epoch 23: 1733.90125093\n",
      "Epoch 24: 1721.25440034\n",
      "Epoch 25: 1714.22019159\n",
      "Epoch 26: 1703.59196545\n",
      "Epoch 27: 1693.56166295\n",
      "Epoch 28: 1682.64204334\n",
      "Epoch 29: 1669.44781203\n",
      "Epoch 30: 1660.74508376\n",
      "Epoch 31: 1654.05310785\n",
      "Epoch 32: 1642.84796433\n",
      "Epoch 33: 1632.10785348\n",
      "Epoch 34: 1627.56001209\n",
      "Epoch 35: 1618.1028704\n",
      "Epoch 36: 1610.37393043\n",
      "Epoch 37: 1604.97716123\n",
      "Epoch 38: 1601.24082874\n",
      "Epoch 39: 1592.89097377\n",
      "Epoch 40: 1586.8709368\n",
      "Epoch 41: 1581.56728981\n",
      "Epoch 42: 1577.30308315\n",
      "Epoch 43: 1570.92859468\n",
      "Epoch 44: 1563.45568266\n",
      "Epoch 45: 1560.62167504\n",
      "Epoch 46: 1554.46148391\n",
      "Epoch 47: 1550.30092076\n",
      "Epoch 48: 1545.46538435\n",
      "Epoch 49: 1540.23946708\n",
      "Epoch 50: 1532.99653553\n",
      "Epoch 51: 1530.82839239\n",
      "Epoch 52: 1526.14253308\n",
      "Epoch 53: 1521.02954247\n",
      "Epoch 54: 1517.15074085\n",
      "Epoch 55: 1515.02045695\n",
      "Epoch 56: 1510.93259975\n",
      "Epoch 57: 1508.29976545\n",
      "Epoch 58: 1503.72872489\n",
      "Epoch 59: 1500.64318412\n",
      "Epoch 60: 1500.73833357\n",
      "Epoch 61: 1495.9561942\n",
      "Epoch 62: 1494.32999674\n",
      "Epoch 63: 1490.24312337\n",
      "Epoch 64: 1486.19131324\n",
      "Epoch 65: 1484.00109282\n",
      "Epoch 66: 1479.22870164\n",
      "Epoch 67: 1479.2628232\n",
      "Epoch 68: 1474.223627\n",
      "Epoch 69: 1472.41034226\n",
      "Epoch 70: 1471.18543643\n",
      "Epoch 71: 1466.91041202\n",
      "Epoch 72: 1463.38030715\n",
      "Epoch 73: 1462.79387556\n",
      "Epoch 74: 1459.49431065\n",
      "Epoch 75: 1456.91175043\n",
      "Epoch 76: 1456.88216146\n",
      "Epoch 77: 1452.56302316\n",
      "Epoch 78: 1450.57203311\n",
      "Epoch 79: 1446.39850725\n",
      "Epoch 80: 1444.27168347\n",
      "Epoch 81: 1443.59395926\n",
      "Epoch 82: 1439.45468866\n",
      "Epoch 83: 1437.99402437\n",
      "Epoch 84: 1436.10393996\n",
      "Epoch 85: 1435.01753743\n",
      "Epoch 86: 1432.88639323\n",
      "Epoch 87: 1432.71719215\n",
      "Epoch 88: 1429.36502511\n",
      "Epoch 89: 1425.73644438\n",
      "Epoch 90: 1425.76332892\n",
      "Epoch 91: 1423.42102051\n",
      "Epoch 92: 1423.48342169\n",
      "Epoch 93: 1420.01632254\n",
      "Epoch 94: 1419.99207124\n",
      "Epoch 95: 1416.42080543\n",
      "Epoch 96: 1415.76753162\n",
      "Epoch 97: 1413.5906808\n",
      "Epoch 98: 1411.77260626\n",
      "Epoch 99: 1413.91062128\n"
     ]
    },
    {
     "data": {
      "image/png": "[encoded data removed]",
      "text/plain": [
       "<matplotlib.figure.Figure at 0x7f009050ef90>"
      ]
     },
     "metadata": {},
     "output_type": "display_data"
    }
   ],
   "source": [
    "with tf.Session() as sess:\n",
    "    # Step 7: initialize the necessary variables, in this case, w and b\n",
    "    # TO - DO\t\n",
    "    sess.run(tf.global_variables_initializer())\n",
    "\n",
    "    # Step 8: train the model\n",
    "    for i in range(100): # run 100 epochs\n",
    "        total_loss = 0\n",
    "\n",
    "        for x, y in data:\n",
    "            # Session runs optimizer to minimize loss and fetch the value of loss\n",
    "            # TO DO: write sess.run()\n",
    "            _, l = sess.run([optimizer, loss], {X: x, Y: y})\n",
    "            total_loss += l\n",
    "        print \"Epoch {0}: {1}\".format(i, total_loss/n_samples)\n",
    "    \n",
    "    # Step 9: get w and b value\n",
    "    w_value, b_value = sess.run([w, b])\n",
    "# plot the results\n",
    "X, Y = data.T[0], data.T[1]\n",
    "plt.plot(X, Y, 'bo', label='Real data')\n",
    "plt.plot(X, X * w_value + b_value, 'r', label='Predicted data')\n",
    "plt.legend()\n",
    "plt.show()"
   ]
  },
  {
   "cell_type": "code",
   "execution_count": null,
   "metadata": {
    "collapsed": true
   },
   "outputs": [],
   "source": []
  }
 ],
 "metadata": {
  "kernelspec": {
   "display_name": "Python 2",
   "language": "python",
   "name": "python2"
  },
  "language_info": {
   "codemirror_mode": {
    "name": "ipython",
    "version": 2
   },
   "file_extension": ".py",
   "mimetype": "text/x-python",
   "name": "python",
   "nbconvert_exporter": "python",
   "pygments_lexer": "ipython2",
   "version": "2.7.6"
  }
 },
 "nbformat": 4,
 "nbformat_minor": 2
}
