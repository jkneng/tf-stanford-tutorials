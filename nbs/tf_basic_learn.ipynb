{
 "cells": [
  {
   "cell_type": "code",
   "execution_count": 1,
   "metadata": {
    "collapsed": true
   },
   "outputs": [],
   "source": [
    "import tensorflow as tf"
   ]
  },
  {
   "cell_type": "code",
   "execution_count": 2,
   "metadata": {
    "collapsed": true
   },
   "outputs": [],
   "source": [
    "x = 3\n",
    "y = 2\n",
    "a = tf.add(x, y)\n",
    "b = tf.multiply(x, y)\n",
    "with tf.Session() as sess:\n",
    "    res = sess.run([a, b])\n",
    "#     print res"
   ]
  },
  {
   "cell_type": "code",
   "execution_count": 3,
   "metadata": {},
   "outputs": [
    {
     "name": "stdout",
     "output_type": "stream",
     "text": [
      "[ 1.  4.  9.]\n"
     ]
    }
   ],
   "source": [
    "# create a graph\n",
    "a = tf.constant([1.0, 2.0, 3.0], name='a')\n",
    "b = tf.constant([1.0, 2.0, 3.0], name='b')\n",
    "c = tf.multiply(a, b)\n",
    "sess = tf.Session()\n",
    "print sess.run(c)"
   ]
  },
  {
   "cell_type": "code",
   "execution_count": 4,
   "metadata": {},
   "outputs": [
    {
     "name": "stdout",
     "output_type": "stream",
     "text": [
      "[[ 0.  0.  0.]\n",
      " [ 0.  0.  0.]]\n",
      "[[7 7 7]\n",
      " [7 7 7]]\n"
     ]
    }
   ],
   "source": [
    "z1 = tf.zeros(shape=[2,3])\n",
    "print sess.run(z1)\n",
    "z2 = tf.fill(dims=[2, 3], value=7)\n",
    "print sess.run(z2)"
   ]
  },
  {
   "cell_type": "code",
   "execution_count": 5,
   "metadata": {},
   "outputs": [
    {
     "name": "stdout",
     "output_type": "stream",
     "text": [
      "[[ 0.86694366  0.61069602 -1.19293356]\n",
      " [ 1.01292098  2.24589992 -0.99937558]]\n",
      "[[ 0.30146825  0.22383857  0.72085392]\n",
      " [ 0.24562085  0.5488174   0.91992176]]\n"
     ]
    }
   ],
   "source": [
    "rn1 = tf.random_normal([2, 3])\n",
    "print sess.run(rn1)\n",
    "ru1 = tf.random_uniform([2,3])\n",
    "print sess.run(ru1)"
   ]
  },
  {
   "cell_type": "code",
   "execution_count": 6,
   "metadata": {},
   "outputs": [
    {
     "name": "stdout",
     "output_type": "stream",
     "text": [
      "['' '' '']\n",
      "[[False False False]\n",
      " [False False False]\n",
      " [False False False]]\n"
     ]
    }
   ],
   "source": [
    "t_1 = ['apple', 'peach', 'banana']\n",
    "s = tf.zeros_like(t_1)\n",
    "print sess.run(s)\n",
    "t_2 = [[True, False, False],\n",
    " [False, False, True],\n",
    " [False, True, False]] \n",
    "s2 = tf.zeros_like(t_2)\n",
    "print sess.run(s2)"
   ]
  },
  {
   "cell_type": "code",
   "execution_count": 7,
   "metadata": {},
   "outputs": [
    {
     "name": "stdout",
     "output_type": "stream",
     "text": [
      "<bound method Graph.as_graph_def of <tensorflow.python.framework.ops.Graph object at 0x7fcf89a54d50>>\n"
     ]
    }
   ],
   "source": [
    "print sess.graph.as_graph_def"
   ]
  },
  {
   "cell_type": "markdown",
   "metadata": {},
   "source": [
    "# constant and variable"
   ]
  },
  {
   "cell_type": "code",
   "execution_count": 8,
   "metadata": {},
   "outputs": [
    {
     "name": "stdout",
     "output_type": "stream",
     "text": [
      "<tf.Variable 'Variable:0' shape=(2, 3) dtype=float32_ref>\n",
      "[[ 0.  0.  0.]\n",
      " [ 0.  0.  0.]]\n"
     ]
    }
   ],
   "source": [
    "v1 = tf.Variable(tf.zeros([2,3]))\n",
    "init = tf.global_variables_initializer()\n",
    "sess.run(v1.initializer)\n",
    "print v1\n",
    "print v1.eval(session=sess)"
   ]
  },
  {
   "cell_type": "code",
   "execution_count": 9,
   "metadata": {},
   "outputs": [
    {
     "name": "stdout",
     "output_type": "stream",
     "text": [
      "10\n",
      "100\n"
     ]
    }
   ],
   "source": [
    "v2 = tf.Variable(10, name='v2')\n",
    "v2.assign(100)\n",
    "print sess.run(v2.initial_value)\n",
    "v3 = v2.assign(100)\n",
    "print sess.run(v3)"
   ]
  },
  {
   "cell_type": "code",
   "execution_count": 10,
   "metadata": {},
   "outputs": [
    {
     "name": "stdout",
     "output_type": "stream",
     "text": [
      "20\n",
      "40\n",
      "80\n"
     ]
    }
   ],
   "source": [
    "v2 = tf.Variable(10, name='v2')\n",
    "v3 = v2.assign(v2 * 2)\n",
    "sess.run(v2.initializer)\n",
    "print sess.run(v3)\n",
    "print sess.run(v3)\n",
    "print sess.run(v3)"
   ]
  },
  {
   "cell_type": "markdown",
   "metadata": {},
   "source": [
    "# placeholder"
   ]
  },
  {
   "cell_type": "code",
   "execution_count": 11,
   "metadata": {},
   "outputs": [
    {
     "data": {
      "text/plain": [
       "array([ 2.,  4.,  6.], dtype=float32)"
      ]
     },
     "execution_count": 11,
     "metadata": {},
     "output_type": "execute_result"
    }
   ],
   "source": [
    "a = tf.placeholder(dtype=tf.float32, shape=[3])\n",
    "b = tf.constant([1.0, 2.0, 3.0], dtype=tf.float32)\n",
    "c = tf.add(a, b)\n",
    "sess.run(c, {a: [1.0, 2.0, 3.0]})"
   ]
  },
  {
   "cell_type": "code",
   "execution_count": 16,
   "metadata": {},
   "outputs": [
    {
     "data": {
      "text/plain": [
       "7"
      ]
     },
     "execution_count": 16,
     "metadata": {},
     "output_type": "execute_result"
    }
   ],
   "source": [
    "x = tf.random_uniform([])  # Empty array as shape creates a scalar.\n",
    "y = tf.random_uniform([])\n",
    "x = tf.constant(2)\n",
    "y = tf.constant(5)\n",
    "out = tf.cond(x < y, lambda: tf.add(x, y), lambda: tf.subtract(x, y))\n",
    "init = tf.global_variables_initializer()\n",
    "sess2 = tf.Session()\n",
    "sess2.run(init)\n",
    "sess2.run(out)"
   ]
  },
  {
   "cell_type": "code",
   "execution_count": 13,
   "metadata": {},
   "outputs": [
    {
     "data": {
      "text/plain": [
       "34"
      ]
     },
     "execution_count": 13,
     "metadata": {},
     "output_type": "execute_result"
    }
   ],
   "source": [
    "x = tf.constant(2)\n",
    "y = tf.constant(5)\n",
    "def f1(): return tf.multiply(x, 17)\n",
    "def f2(): return tf.add(y, 23)\n",
    "r = tf.cond(tf.less(x, y), f1, f2)\n",
    "r.eval(session=sess)"
   ]
  },
  {
   "cell_type": "code",
   "execution_count": 18,
   "metadata": {},
   "outputs": [
    {
     "data": {
      "text/plain": [
       "-0.40258288"
      ]
     },
     "execution_count": 18,
     "metadata": {},
     "output_type": "execute_result"
    }
   ],
   "source": [
    "x = tf.random_uniform([], minval=-1)  # Empty array as shape creates a scalar.\n",
    "y = tf.random_uniform([], minval=-1)\n",
    "out = tf.case([(tf.less(x, y), lambda: tf.add(x, y))] , default=lambda: tf.constant(0.0))\n",
    "# init = tf.variables_initializer([x, y], name='init')\n",
    "init = tf.global_variables_initializer()\n",
    "# sess2 = tf.Session()\n",
    "sess2.run(init)\n",
    "sess2.run(out)"
   ]
  },
  {
   "cell_type": "code",
   "execution_count": 22,
   "metadata": {},
   "outputs": [
    {
     "name": "stdout",
     "output_type": "stream",
     "text": [
      "[[ True False False]\n",
      " [ True False False]]\n"
     ]
    }
   ],
   "source": [
    "x = tf.constant([[0, -2, -1], [0, 1, 2]], shape=[2,3])\n",
    "y = tf.zeros_like(x)\n",
    "res = tf.equal(x, y)\n",
    "print sess2.run(res)"
   ]
  },
  {
   "cell_type": "code",
   "execution_count": 25,
   "metadata": {},
   "outputs": [
    {
     "name": "stdout",
     "output_type": "stream",
     "text": [
      "[[ 2]\n",
      " [ 4]\n",
      " [ 6]\n",
      " [ 8]\n",
      " [ 9]\n",
      " [11]\n",
      " [14]\n",
      " [16]\n",
      " [18]]\n",
      "[[ 31.19073486]\n",
      " [ 30.97266006]\n",
      " [ 38.08450317]\n",
      " [ 34.94445419]\n",
      " [ 34.45999146]\n",
      " [ 36.01657104]\n",
      " [ 30.20379066]\n",
      " [ 33.71149445]\n",
      " [ 36.05556488]]\n"
     ]
    }
   ],
   "source": [
    "a = [29.05088806,  27.61298943,  31.19073486,  29.35532951,\n",
    " 30.97266006,  26.67541885,  38.08450317,  20.74983215,\n",
    " 34.94445419,  34.45999146,  29.06485367,  36.01657104,\n",
    " 27.88236427,  20.56035233,  30.20379066,  29.51215172,\n",
    " 33.71149445,  28.59134293,  36.05556488,  28.66994858]\n",
    "x = tf.constant(a)\n",
    "res = tf.where(x > 30)\n",
    "print sess2.run(res)\n",
    "r = tf.gather(x, indices=res)\n",
    "print sess2.run(r)"
   ]
  },
  {
   "cell_type": "code",
   "execution_count": 28,
   "metadata": {},
   "outputs": [
    {
     "name": "stdout",
     "output_type": "stream",
     "text": [
      "[[1 0 0 0 0 0]\n",
      " [0 2 0 0 0 0]\n",
      " [0 0 3 0 0 0]\n",
      " [0 0 0 4 0 0]\n",
      " [0 0 0 0 5 0]\n",
      " [0 0 0 0 0 6]]\n"
     ]
    }
   ],
   "source": [
    "rg = tf.range(start=1, limit=7)\n",
    "dm = tf.diag(rg)\n",
    "print sess2.run(dm)"
   ]
  },
  {
   "cell_type": "code",
   "execution_count": 31,
   "metadata": {},
   "outputs": [
    {
     "name": "stdout",
     "output_type": "stream",
     "text": [
      "-313.064\n"
     ]
    }
   ],
   "source": [
    "d = tf.random_normal(shape=[10, 10])\n",
    "md = tf.matrix_determinant(input=d)\n",
    "print sess2.run(md)"
   ]
  },
  {
   "cell_type": "code",
   "execution_count": 32,
   "metadata": {},
   "outputs": [
    {
     "name": "stdout",
     "output_type": "stream",
     "text": [
      "Unique(y=array([ 5,  2,  3, 10,  6,  4,  1,  0,  9], dtype=int32), idx=array([0, 1, 2, 0, 3, 4, 1, 2, 5, 1, 6, 6, 7, 8], dtype=int32))\n"
     ]
    }
   ],
   "source": [
    "ipt = tf.constant([5, 2, 3, 5, 10, 6, 2, 3, 4, 2, 1, 1, 0, 9])\n",
    "ui = tf.unique(x=ipt)\n",
    "print sess2.run(ui)"
   ]
  },
  {
   "cell_type": "code",
   "execution_count": 38,
   "metadata": {},
   "outputs": [
    {
     "data": {
      "text/plain": [
       "2.3741705"
      ]
     },
     "execution_count": 38,
     "metadata": {},
     "output_type": "execute_result"
    }
   ],
   "source": [
    "x = tf.random_normal(shape=[100])\n",
    "y = tf.random_normal(shape=[100])\n",
    "xsy = tf.subtract(x, y)\n",
    "sxy = tf.square(xsy)\n",
    "axy = tf.reduce_mean(xsy)\n",
    "\n",
    "def mse(): return tf.reduce_mean(sxy)\n",
    "def abso(): return tf.reduce_sum(tf.abs(xsy))\n",
    "c = tf.cond(tf.greater(axy, 0), mse, abso)\n",
    "sess2.run(c)"
   ]
  },
  {
   "cell_type": "code",
   "execution_count": null,
   "metadata": {
    "collapsed": true
   },
   "outputs": [],
   "source": []
  }
 ],
 "metadata": {
  "kernelspec": {
   "display_name": "Python 2",
   "language": "python",
   "name": "python2"
  },
  "language_info": {
   "codemirror_mode": {
    "name": "ipython",
    "version": 2
   },
   "file_extension": ".py",
   "mimetype": "text/x-python",
   "name": "python",
   "nbconvert_exporter": "python",
   "pygments_lexer": "ipython2",
   "version": "2.7.6"
  }
 },
 "nbformat": 4,
 "nbformat_minor": 2
}
